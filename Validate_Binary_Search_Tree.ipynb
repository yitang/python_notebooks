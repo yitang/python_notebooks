{
 "cells": [
  {
   "cell_type": "markdown",
   "metadata": {},
   "source": [
    "# validate a binrary search three"
   ]
  },
  {
   "cell_type": "markdown",
   "metadata": {},
   "source": [
    "## method 1: Simple but wrong\n",
    "\n",
    "based on the wrong definition of binrary search tree.\n",
    "for each node, check\n",
    "1. the left child is smaller,\n",
    "2. the right child is bigger."
   ]
  },
  {
   "cell_type": "code",
   "execution_count": null,
   "metadata": {
    "collapsed": true
   },
   "outputs": [],
   "source": [
    "def validate_bst(node):\n",
    "    if node.left.val > node.val:\n",
    "        return False\n",
    "    if node.right.val < node.val:\n",
    "        return False\n",
    "    return True"
   ]
  },
  {
   "cell_type": "markdown",
   "metadata": {},
   "source": [
    "This is wrong, because by definiton of BST, all the left children of a node are smaller, and all the right children of smaller. It's not enough just one node's children, but it's acendence as well. "
   ]
  },
  {
   "cell_type": "code",
   "execution_count": null,
   "metadata": {
    "collapsed": true
   },
   "outputs": [],
   "source": []
  },
  {
   "cell_type": "code",
   "execution_count": null,
   "metadata": {
    "collapsed": true
   },
   "outputs": [],
   "source": []
  },
  {
   "cell_type": "markdown",
   "metadata": {},
   "source": [
    "## method 2: Correct but inefficient\n",
    "\n",
    "fix the method 1, check all a node's children."
   ]
  },
  {
   "cell_type": "code",
   "execution_count": null,
   "metadata": {
    "collapsed": true
   },
   "outputs": [],
   "source": [
    "def validate_bst(node):\n",
    "    left_children_max = DFS_max(node.left)\n",
    "    right_children_min = DFS_min(node.right)\n",
    "    if left_children_max > node.val:\n",
    "        return False\n",
    "    if right_children_min < node.val:\n",
    "        return False\n",
    "    return True"
   ]
  },
  {
   "cell_type": "markdown",
   "metadata": {},
   "source": [
    "This method is extremly slow, it repeatly visit the same subtree. the runtime is O(depth^2)"
   ]
  },
  {
   "cell_type": "markdown",
   "metadata": {},
   "source": [
    "## Method 3: Correct and Efficient\n",
    "\n",
    "A better method is to traverse the tree, and keep maintain the min and max values of the visited nodes. let's start with min = large positve number and max = small negative number.\n",
    "\n",
    "after we visit the root, then \n",
    "1. for the left child, the max becomes the root's value, and the min's still large.\n",
    "2. for the right child, the min is root's value, and the max is still the max.\n"
   ]
  },
  {
   "cell_type": "code",
   "execution_count": 3,
   "metadata": {},
   "outputs": [
    {
     "data": {
      "text/plain": [
       "True"
      ]
     },
     "execution_count": 3,
     "metadata": {},
     "output_type": "execute_result"
    }
   ],
   "source": [
    "_MIN = -100000000\n",
    "_MAX = 100000000\n",
    "\n",
    "# A binary tree node\n",
    "class Node:\n",
    " \n",
    "    # Constructor to create a new node\n",
    "    def __init__(self, data):\n",
    "        self.val = data \n",
    "        self.left = []\n",
    "        self.right = []\n",
    "\n",
    "def validate_bst(node):\n",
    "    return validate_bst_util(node, _MIN, _MAX)\n",
    "    \n",
    "def validate_bst_util(node, min_i, max_i):\n",
    "    # leaf cases\n",
    "    if not node:\n",
    "        return True\n",
    "\n",
    "    if node.val < min_i:\n",
    "        return False\n",
    "    if node.val > max_i:\n",
    "        return False\n",
    "    return (validate_bst_util(node.left, min_i, node.val) and \n",
    "           validate_bst_util(node.right, node.val, max_i))\n",
    "\n",
    "# Driver program to test above function\n",
    "root = Node(4)\n",
    "root.left = Node(2)\n",
    "root.right = Node(5)\n",
    "root.left.left = Node(1)\n",
    "root.left.right = Node(3)\n",
    "validate_bst(root)"
   ]
  },
  {
   "cell_type": "code",
   "execution_count": null,
   "metadata": {
    "collapsed": true
   },
   "outputs": [],
   "source": [
    "\n",
    "\n",
    "# Returns true if the given tree is a binary search tree\n",
    "# (efficient version)\n",
    "def isBST(node):\n",
    "    return (isBSTUtil(node, INT_MIN, INT_MAX))\n",
    " \n",
    "# Retusn true if the given tree is a BST and its values\n",
    "# >= min and <= max\n",
    "def isBSTUtil(node, mini, maxi):\n",
    "     \n",
    "    # An empty tree is BST\n",
    "    if node is None:\n",
    "        return True\n",
    " \n",
    "    # False if this node violates min/max constraint\n",
    "    if node.data < mini or node.data > maxi:\n",
    "        return False\n",
    " \n",
    "    # Otherwise check the subtrees recursively\n",
    "    # tightening the min or max constraint\n",
    "    return (isBSTUtil(node.left, mini, node.data -1) and\n",
    "          isBSTUtil(node.right, node.data+1, maxi))\n",
    " "
   ]
  },
  {
   "cell_type": "markdown",
   "metadata": {},
   "source": [
    "## Method 4 - Use data structure\n",
    "There's an interesting fact about binrary search tree: if we in order trasverse the tree, we the visited node's value is in ascending order.\n",
    "\n",
    "In order traverse: given a node,\n",
    "1. in order traverse its left child,\n",
    "2. visit node,\n",
    "3. in order traverse its right child."
   ]
  },
  {
   "cell_type": "code",
   "execution_count": 5,
   "metadata": {},
   "outputs": [
    {
     "data": {
      "text/plain": [
       "True"
      ]
     },
     "execution_count": 5,
     "metadata": {},
     "output_type": "execute_result"
    }
   ],
   "source": [
    "visited_vals = []\n",
    "\n",
    "inorder_count = 0\n",
    "def inorder_traverse(node):\n",
    "    if node.left:\n",
    "        inorder_traverse(node.left)\n",
    "    visited_vals.append(node.val)\n",
    "    if node.right:\n",
    "        inorder_traverse(node.right)\n",
    "    \n",
    "def validate_bst(node):\n",
    "    inorder_traverse(node)\n",
    "    for i in range(1, len(visited_vals)):\n",
    "        if visited_vals[i-1] > visited_vals[i]:\n",
    "            return False\n",
    "    return True\n",
    "\n",
    "validate_bst(root)"
   ]
  },
  {
   "cell_type": "markdown",
   "metadata": {},
   "source": [
    "the downside of this algorihtm requires O(n) memeory, but you can optimised this by only keep the previous visited value in the loop."
   ]
  }
 ],
 "metadata": {
  "kernelspec": {
   "display_name": "Python 3",
   "language": "python",
   "name": "python3"
  },
  "language_info": {
   "codemirror_mode": {
    "name": "ipython",
    "version": 3
   },
   "file_extension": ".py",
   "mimetype": "text/x-python",
   "name": "python",
   "nbconvert_exporter": "python",
   "pygments_lexer": "ipython3",
   "version": "3.6.1"
  }
 },
 "nbformat": 4,
 "nbformat_minor": 2
}
